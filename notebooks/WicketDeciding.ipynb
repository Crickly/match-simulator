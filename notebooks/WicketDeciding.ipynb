{
 "cells": [
  {
   "cell_type": "code",
   "execution_count": 1,
   "metadata": {},
   "outputs": [],
   "source": [
    "import mysql.connector\n",
    "import sshtunnel\n",
    "import pandas as pd\n",
    "import numpy as np\n",
    "import xgboost as xgb\n",
    "from sklearn.model_selection import train_test_split"
   ]
  },
  {
   "cell_type": "code",
   "execution_count": 2,
   "metadata": {},
   "outputs": [],
   "source": [
    "host = 'vision.local'\n",
    "localhost = '127.0.0.1'\n",
    "ssh_username = 'rileyevans'\n",
    "ssh_private_key = '~/.ssh/id_rsa'\n",
    "user='crickettesting_django'\n",
    "password='-N3gdCp-K7WN'\n",
    "database='crickly-testing_django'\n",
    "server = sshtunnel.SSHTunnelForwarder(\n",
    "    (host, 22),\n",
    "    ssh_username=ssh_username,\n",
    "    ssh_private_key=ssh_private_key,\n",
    "    remote_bind_address=('localhost', 3306)\n",
    ")\n",
    "server.start()\n",
    "\n",
    "conn = mysql.connector.connect(host='localhost',\n",
    "    port=server.local_bind_port,\n",
    "    user=user,\n",
    "    passwd=password,\n",
    "    db=database\n",
    ")\n",
    "\n",
    "def query(q):\n",
    "    return pd.read_sql_query(q, conn)\n",
    "   "
   ]
  },
  {
   "cell_type": "code",
   "execution_count": 3,
   "metadata": {},
   "outputs": [],
   "source": [
    "balls = query('''\n",
    "select \n",
    "\tbbb.over_number,\n",
    "\tbbb.ball_number,\n",
    "\tbbb.runs,\n",
    "\tis_wicket,\n",
    "\ttotal_runs,\n",
    "\ttotal_balls,\n",
    "\ttotal_wickets,\n",
    "\ttotal_batsman_balls,\n",
    "\ttotal_bat_runs total_batsman_runs,\n",
    "\ttotal_bowler_balls,\n",
    "\ttotal_bowl_runs total_bowler_runs,\n",
    "\ttotal_bowler_wickets,\n",
    "\tbat_s.average batsman_average,\n",
    "\tbat_s.average_last4 batsman_average_last4,\n",
    "\tbat_s.dismissal_rate batsman_dismissal_rate,\n",
    "\tbat_s.dismissal_rate_last4 batsman_dismissal_rate_last4,\n",
    "\tbowl_s.average bowler_average,\n",
    "\tbowl_s.average_last4 bowler_average_last4,\n",
    "\tbowl_s.dismissal_rate bowler_dismissal_rate,\n",
    "\tbowl_s.dismissal_rate_last4 bowler_dismissal_rate_last4\n",
    "from \n",
    "\tpcsp_bbb_ball bbb\n",
    "\tinner join match_sim_wicket_detection_batsmen_static bat_s on bbb.batsman_id = bat_s.player_id and bbb.match_id = bat_s.match_id\n",
    "\tinner join match_sim_wicket_detection_bowler_static bowl_s on bbb.bowler_id = bowl_s.player_id and bbb.match_id = bowl_s.match_id\n",
    "order by bbb.id;\n",
    "''')"
   ]
  },
  {
   "cell_type": "code",
   "execution_count": 4,
   "metadata": {},
   "outputs": [],
   "source": [
    "balls = balls.dropna()"
   ]
  },
  {
   "cell_type": "markdown",
   "metadata": {},
   "source": [
    "Now the data can be converted to a DMatrix for XGBoost"
   ]
  },
  {
   "cell_type": "code",
   "execution_count": 5,
   "metadata": {},
   "outputs": [],
   "source": [
    "features = [\n",
    "    'total_runs',\n",
    "    'total_balls',\n",
    "    'total_wickets',\n",
    "    'total_batsman_balls',\n",
    "    'total_batsman_runs',\n",
    "    'total_bowler_balls',\n",
    "    'total_bowler_runs',\n",
    "    'total_bowler_wickets',\n",
    "    'batsman_average',\n",
    "    'batsman_average_last4',\n",
    "    'batsman_dismissal_rate',\n",
    "    'batsman_dismissal_rate_last4',\n",
    "    'bowler_average',\n",
    "    'bowler_average_last4',\n",
    "    'bowler_dismissal_rate',\n",
    "    'bowler_dismissal_rate_last4',\n",
    "]\n",
    "\n",
    "label = 'is_wicket'"
   ]
  },
  {
   "cell_type": "code",
   "execution_count": 12,
   "metadata": {},
   "outputs": [],
   "source": [
    "train_x, test_x, train_y, test_y = train_test_split(balls[features], balls[label], stratify=balls[label])"
   ]
  },
  {
   "cell_type": "code",
   "execution_count": 15,
   "metadata": {},
   "outputs": [],
   "source": [
    "train_set = xgb.DMatrix(train_x, label=train_y)\n",
    "test_set = xgb.DMatrix(test_x, label=test_y)"
   ]
  },
  {
   "cell_type": "code",
   "execution_count": 89,
   "metadata": {},
   "outputs": [],
   "source": [
    "param = {\n",
    "    'max_depth': 2,\n",
    "    'eta': 1, \n",
    "    'objective': 'binary:logistic',\n",
    "    'tree_method': 'gpu_hist',\n",
    "}\n",
    "evallist = [(test_set, 'eval'), (train_set, 'train')]"
   ]
  },
  {
   "cell_type": "code",
   "execution_count": 46,
   "metadata": {},
   "outputs": [
    {
     "name": "stdout",
     "output_type": "stream",
     "text": [
      "[0]\teval-error:0.02940\ttrain-error:0.02948\n",
      "[1]\teval-error:0.02940\ttrain-error:0.02948\n",
      "[2]\teval-error:0.03128\ttrain-error:0.03143\n",
      "[3]\teval-error:0.02936\ttrain-error:0.02949\n",
      "[4]\teval-error:0.02937\ttrain-error:0.02952\n",
      "[5]\teval-error:0.02864\ttrain-error:0.02849\n",
      "[6]\teval-error:0.02875\ttrain-error:0.02856\n",
      "[7]\teval-error:0.02858\ttrain-error:0.02845\n",
      "[8]\teval-error:0.02857\ttrain-error:0.02845\n",
      "[9]\teval-error:0.02857\ttrain-error:0.02840\n"
     ]
    }
   ],
   "source": [
    "num_round = 10\n",
    "bst = xgb.train(param, train_set, num_round, evallist)"
   ]
  },
  {
   "cell_type": "code",
   "execution_count": 24,
   "metadata": {},
   "outputs": [],
   "source": [
    "results = bst.predict(test_set)"
   ]
  },
  {
   "cell_type": "code",
   "execution_count": 29,
   "metadata": {},
   "outputs": [],
   "source": [
    "np.savetxt('wicket-deciding.csv', results, delimiter=',')"
   ]
  },
  {
   "cell_type": "code",
   "execution_count": 32,
   "metadata": {},
   "outputs": [],
   "source": [
    "test_x.to_csv('wicket-deciding-test-x.csv', index=False)\n",
    "test_y.to_csv('wicket-deciding-test-y.csv', index=False)"
   ]
  },
  {
   "cell_type": "markdown",
   "metadata": {},
   "source": [
    "## Class Imbalance\n",
    "One problem we have here is that there are significantly more balls that are not wickets than are wickets. This means that our class labelling has an imbalance which is not ideal."
   ]
  },
  {
   "cell_type": "code",
   "execution_count": 58,
   "metadata": {},
   "outputs": [],
   "source": [
    "is_wicket_balls = balls[balls['is_wicket'] == 1]\n",
    "not_wicket_balls = balls[balls['is_wicket'] != 1].sample(n=len(is_wicket_balls.index))\n",
    "b_balls = is_wicket_balls.append(not_wicket_balls)"
   ]
  },
  {
   "cell_type": "code",
   "execution_count": 59,
   "metadata": {},
   "outputs": [],
   "source": [
    "b_train_x, b_test_x, b_train_y, b_test_y = train_test_split(\n",
    "    b_balls[features], b_balls[label], stratify=b_balls[label]\n",
    ")"
   ]
  },
  {
   "cell_type": "code",
   "execution_count": 60,
   "metadata": {},
   "outputs": [],
   "source": [
    "b_train_set = xgb.DMatrix(b_train_x, label=b_train_y)\n",
    "b_test_set = xgb.DMatrix(b_test_x, label=b_test_y)"
   ]
  },
  {
   "cell_type": "code",
   "execution_count": 61,
   "metadata": {},
   "outputs": [],
   "source": [
    "b_evallist = [(b_test_set, 'eval'), (b_train_set, 'train')]"
   ]
  },
  {
   "cell_type": "code",
   "execution_count": 90,
   "metadata": {},
   "outputs": [
    {
     "name": "stdout",
     "output_type": "stream",
     "text": [
      "[0]\teval-error:0.47670\ttrain-error:0.47530\n",
      "[1]\teval-error:0.47670\ttrain-error:0.47530\n",
      "[2]\teval-error:0.44117\ttrain-error:0.43851\n",
      "[3]\teval-error:0.47503\ttrain-error:0.47419\n",
      "[4]\teval-error:0.47544\ttrain-error:0.47460\n",
      "[5]\teval-error:0.45413\ttrain-error:0.45433\n",
      "[6]\teval-error:0.45329\ttrain-error:0.45315\n",
      "[7]\teval-error:0.44472\ttrain-error:0.44430\n",
      "[8]\teval-error:0.44493\ttrain-error:0.44381\n",
      "[9]\teval-error:0.44410\ttrain-error:0.44367\n"
     ]
    }
   ],
   "source": [
    "num_round = 10\n",
    "b_bst = xgb.train(param, train_set, num_round, b_evallist)"
   ]
  },
  {
   "cell_type": "code",
   "execution_count": 70,
   "metadata": {},
   "outputs": [],
   "source": [
    "b_results = b_bst.predict(b_test_set)"
   ]
  },
  {
   "cell_type": "code",
   "execution_count": 71,
   "metadata": {},
   "outputs": [],
   "source": [
    "np.savetxt('wicket-deciding-b.csv', b_results, delimiter=',')\n",
    "b_test_x.to_csv('wicket-deciding-test-x-b.csv', index=False)\n",
    "b_test_y.to_csv('wicket-deciding-test-y-b.csv', index=False)"
   ]
  },
  {
   "cell_type": "code",
   "execution_count": 106,
   "metadata": {},
   "outputs": [
    {
     "data": {
      "image/svg+xml": [
       "<?xml version=\"1.0\" encoding=\"UTF-8\" standalone=\"no\"?>\n",
       "<!DOCTYPE svg PUBLIC \"-//W3C//DTD SVG 1.1//EN\"\n",
       " \"http://www.w3.org/Graphics/SVG/1.1/DTD/svg11.dtd\">\n",
       "<!-- Generated by graphviz version 2.40.1 (20161225.0304)\n",
       " -->\n",
       "<!-- Title: %3 Pages: 1 -->\n",
       "<svg width=\"672pt\" height=\"218pt\"\n",
       " viewBox=\"0.00 0.00 672.04 218.00\" xmlns=\"http://www.w3.org/2000/svg\" xmlns:xlink=\"http://www.w3.org/1999/xlink\">\n",
       "<g id=\"graph0\" class=\"graph\" transform=\"scale(1 1) rotate(0) translate(4 214)\">\n",
       "<title>%3</title>\n",
       "<polygon fill=\"#ffffff\" stroke=\"transparent\" points=\"-4,4 -4,-214 668.0363,-214 668.0363,4 -4,4\"/>\n",
       "<!-- 0 -->\n",
       "<g id=\"node1\" class=\"node\">\n",
       "<title>0</title>\n",
       "<ellipse fill=\"none\" stroke=\"#000000\" cx=\"330.643\" cy=\"-192\" rx=\"90.1842\" ry=\"18\"/>\n",
       "<text text-anchor=\"middle\" x=\"330.643\" y=\"-188.3\" font-family=\"Times,serif\" font-size=\"14.00\" fill=\"#000000\">total_bowler_balls&lt;14</text>\n",
       "</g>\n",
       "<!-- 1 -->\n",
       "<g id=\"node2\" class=\"node\">\n",
       "<title>1</title>\n",
       "<ellipse fill=\"none\" stroke=\"#000000\" cx=\"242.643\" cy=\"-105\" rx=\"90.9839\" ry=\"18\"/>\n",
       "<text text-anchor=\"middle\" x=\"242.643\" y=\"-101.3\" font-family=\"Times,serif\" font-size=\"14.00\" fill=\"#000000\">total_batsman_balls&lt;9</text>\n",
       "</g>\n",
       "<!-- 0&#45;&gt;1 -->\n",
       "<g id=\"edge1\" class=\"edge\">\n",
       "<title>0&#45;&gt;1</title>\n",
       "<path fill=\"none\" stroke=\"#0000ff\" d=\"M312.4094,-173.9735C299.4625,-161.1738 281.9201,-143.8308 267.6652,-129.7379\"/>\n",
       "<polygon fill=\"#0000ff\" stroke=\"#0000ff\" points=\"270.1243,-127.2473 260.5522,-122.7057 265.2029,-132.2253 270.1243,-127.2473\"/>\n",
       "<text text-anchor=\"middle\" x=\"327.143\" y=\"-144.8\" font-family=\"Times,serif\" font-size=\"14.00\" fill=\"#000000\">yes, missing</text>\n",
       "</g>\n",
       "<!-- 2 -->\n",
       "<g id=\"node3\" class=\"node\">\n",
       "<title>2</title>\n",
       "<ellipse fill=\"none\" stroke=\"#000000\" cx=\"419.643\" cy=\"-105\" rx=\"67.6881\" ry=\"18\"/>\n",
       "<text text-anchor=\"middle\" x=\"419.643\" y=\"-101.3\" font-family=\"Times,serif\" font-size=\"14.00\" fill=\"#000000\">total_wickets&lt;8</text>\n",
       "</g>\n",
       "<!-- 0&#45;&gt;2 -->\n",
       "<g id=\"edge2\" class=\"edge\">\n",
       "<title>0&#45;&gt;2</title>\n",
       "<path fill=\"none\" stroke=\"#ff0000\" d=\"M349.0839,-173.9735C362.2646,-161.089 380.1548,-143.6009 394.6225,-129.4583\"/>\n",
       "<polygon fill=\"#ff0000\" stroke=\"#ff0000\" points=\"397.1287,-131.9028 401.8331,-122.4097 392.2355,-126.8971 397.1287,-131.9028\"/>\n",
       "<text text-anchor=\"middle\" x=\"387.643\" y=\"-144.8\" font-family=\"Times,serif\" font-size=\"14.00\" fill=\"#000000\">no</text>\n",
       "</g>\n",
       "<!-- 3 -->\n",
       "<g id=\"node4\" class=\"node\">\n",
       "<title>3</title>\n",
       "<ellipse fill=\"none\" stroke=\"#000000\" cx=\"78.643\" cy=\"-18\" rx=\"78.7863\" ry=\"18\"/>\n",
       "<text text-anchor=\"middle\" x=\"78.643\" y=\"-14.3\" font-family=\"Times,serif\" font-size=\"14.00\" fill=\"#000000\">leaf=&#45;0.166896582</text>\n",
       "</g>\n",
       "<!-- 1&#45;&gt;3 -->\n",
       "<g id=\"edge3\" class=\"edge\">\n",
       "<title>1&#45;&gt;3</title>\n",
       "<path fill=\"none\" stroke=\"#ff0000\" d=\"M210.6328,-88.019C184.503,-74.1574 147.4219,-54.4864 119.213,-39.5219\"/>\n",
       "<polygon fill=\"#ff0000\" stroke=\"#ff0000\" points=\"120.4895,-36.2371 110.0153,-34.6426 117.2091,-42.4209 120.4895,-36.2371\"/>\n",
       "<text text-anchor=\"middle\" x=\"177.643\" y=\"-57.8\" font-family=\"Times,serif\" font-size=\"14.00\" fill=\"#000000\">no</text>\n",
       "</g>\n",
       "<!-- 4 -->\n",
       "<g id=\"node5\" class=\"node\">\n",
       "<title>4</title>\n",
       "<ellipse fill=\"none\" stroke=\"#000000\" cx=\"246.643\" cy=\"-18\" rx=\"71.4873\" ry=\"18\"/>\n",
       "<text text-anchor=\"middle\" x=\"246.643\" y=\"-14.3\" font-family=\"Times,serif\" font-size=\"14.00\" fill=\"#000000\">leaf=1.24014378</text>\n",
       "</g>\n",
       "<!-- 1&#45;&gt;4 -->\n",
       "<g id=\"edge4\" class=\"edge\">\n",
       "<title>1&#45;&gt;4</title>\n",
       "<path fill=\"none\" stroke=\"#0000ff\" d=\"M243.4718,-86.9735C244.0135,-75.1918 244.7322,-59.5607 245.3484,-46.1581\"/>\n",
       "<polygon fill=\"#0000ff\" stroke=\"#0000ff\" points=\"248.8522,-46.1536 245.8153,-36.0034 241.8596,-45.832 248.8522,-46.1536\"/>\n",
       "<text text-anchor=\"middle\" x=\"280.143\" y=\"-57.8\" font-family=\"Times,serif\" font-size=\"14.00\" fill=\"#000000\">yes, missing</text>\n",
       "</g>\n",
       "<!-- 5 -->\n",
       "<g id=\"node6\" class=\"node\">\n",
       "<title>5</title>\n",
       "<ellipse fill=\"none\" stroke=\"#000000\" cx=\"416.643\" cy=\"-18\" rx=\"78.7863\" ry=\"18\"/>\n",
       "<text text-anchor=\"middle\" x=\"416.643\" y=\"-14.3\" font-family=\"Times,serif\" font-size=\"14.00\" fill=\"#000000\">leaf=&#45;0.229651049</text>\n",
       "</g>\n",
       "<!-- 2&#45;&gt;5 -->\n",
       "<g id=\"edge5\" class=\"edge\">\n",
       "<title>2&#45;&gt;5</title>\n",
       "<path fill=\"none\" stroke=\"#ff0000\" d=\"M419.0214,-86.9735C418.6152,-75.1918 418.0761,-59.5607 417.614,-46.1581\"/>\n",
       "<polygon fill=\"#ff0000\" stroke=\"#ff0000\" points=\"421.1065,-45.8768 417.2638,-36.0034 414.1106,-46.1181 421.1065,-45.8768\"/>\n",
       "<text text-anchor=\"middle\" x=\"425.643\" y=\"-57.8\" font-family=\"Times,serif\" font-size=\"14.00\" fill=\"#000000\">no</text>\n",
       "</g>\n",
       "<!-- 6 -->\n",
       "<g id=\"node7\" class=\"node\">\n",
       "<title>6</title>\n",
       "<ellipse fill=\"none\" stroke=\"#000000\" cx=\"588.643\" cy=\"-18\" rx=\"75.2868\" ry=\"18\"/>\n",
       "<text text-anchor=\"middle\" x=\"588.643\" y=\"-14.3\" font-family=\"Times,serif\" font-size=\"14.00\" fill=\"#000000\">leaf=0.352323294</text>\n",
       "</g>\n",
       "<!-- 2&#45;&gt;6 -->\n",
       "<g id=\"edge6\" class=\"edge\">\n",
       "<title>2&#45;&gt;6</title>\n",
       "<path fill=\"none\" stroke=\"#0000ff\" d=\"M451.0346,-88.8399C478.3708,-74.7674 518.1775,-54.2751 547.9526,-38.9472\"/>\n",
       "<polygon fill=\"#0000ff\" stroke=\"#0000ff\" points=\"549.557,-42.0578 556.8461,-34.3688 546.3531,-35.8341 549.557,-42.0578\"/>\n",
       "<text text-anchor=\"middle\" x=\"549.143\" y=\"-57.8\" font-family=\"Times,serif\" font-size=\"14.00\" fill=\"#000000\">yes, missing</text>\n",
       "</g>\n",
       "</g>\n",
       "</svg>\n"
      ],
      "text/plain": [
       "<graphviz.files.Source at 0x7fd4737b5ee0>"
      ]
     },
     "execution_count": 106,
     "metadata": {},
     "output_type": "execute_result"
    }
   ],
   "source": [
    "xgb.to_graphviz(b_bst, num_trees=5)"
   ]
  },
  {
   "cell_type": "code",
   "execution_count": 92,
   "metadata": {},
   "outputs": [
    {
     "data": {
      "text/plain": [
       "<matplotlib.axes._subplots.AxesSubplot at 0x7fd4739622e0>"
      ]
     },
     "execution_count": 92,
     "metadata": {},
     "output_type": "execute_result"
    },
    {
     "data": {
      "image/png": "[encoded data removed]",
      "text/plain": [
       "<Figure size 432x288 with 1 Axes>"
      ]
     },
     "metadata": {
      "needs_background": "light"
     },
     "output_type": "display_data"
    }
   ],
   "source": [
    "xgb.plot_importance(b_bst)"
   ]
  },
  {
   "cell_type": "code",
   "execution_count": 107,
   "metadata": {},
   "outputs": [],
   "source": [
    "b_bst.save_model('b-wicket-decision.model')"
   ]
  },
  {
   "cell_type": "code",
   "execution_count": 108,
   "metadata": {},
   "outputs": [],
   "source": [
    "bst.save_model('wicket-decision.model')"
   ]
  },
  {
   "cell_type": "code",
   "execution_count": null,
   "metadata": {},
   "outputs": [],
   "source": []
  }
 ],
 "metadata": {
  "kernelspec": {
   "display_name": "Python 3",
   "language": "python",
   "name": "python3"
  },
  "language_info": {
   "codemirror_mode": {
    "name": "ipython",
    "version": 3
   },
   "file_extension": ".py",
   "mimetype": "text/x-python",
   "name": "python",
   "nbconvert_exporter": "python",
   "pygments_lexer": "ipython3",
   "version": "3.8.3"
  }
 },
 "nbformat": 4,
 "nbformat_minor": 4
}
